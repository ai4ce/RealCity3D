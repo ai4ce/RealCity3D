{
 "cells": [
  {
   "cell_type": "markdown",
   "metadata": {
    "id": "xVe7UJQ6fl0x"
   },
   "source": [
    "## **Set up functions**\n",
    "\n"
   ]
  },
  {
   "cell_type": "code",
   "execution_count": null,
   "metadata": {
    "colab": {
     "base_uri": "https://localhost:8080/"
    },
    "executionInfo": {
     "elapsed": 3322,
     "status": "ok",
     "timestamp": 1627416341427,
     "user": {
      "displayName": "Lazarus Chok",
      "photoUrl": "",
      "userId": "15031850805138681927"
     },
     "user_tz": 240
    },
    "id": "1SBhpLQIbxRe",
    "outputId": "adbe0881-d312-4b4d-9ae4-42727a072be0"
   },
   "outputs": [
    {
     "name": "stdout",
     "output_type": "stream",
     "text": [
      "Collecting tensorboardX\n",
      "  Downloading tensorboardX-2.4-py2.py3-none-any.whl (124 kB)\n",
      "\u001b[?25l\r",
      "\u001b[K     |██▋                             | 10 kB 20.0 MB/s eta 0:00:01\r",
      "\u001b[K     |█████▎                          | 20 kB 10.6 MB/s eta 0:00:01\r",
      "\u001b[K     |████████                        | 30 kB 9.2 MB/s eta 0:00:01\r",
      "\u001b[K     |██████████▌                     | 40 kB 8.3 MB/s eta 0:00:01\r",
      "\u001b[K     |█████████████▏                  | 51 kB 4.3 MB/s eta 0:00:01\r",
      "\u001b[K     |███████████████▉                | 61 kB 4.5 MB/s eta 0:00:01\r",
      "\u001b[K     |██████████████████▍             | 71 kB 4.9 MB/s eta 0:00:01\r",
      "\u001b[K     |█████████████████████           | 81 kB 5.4 MB/s eta 0:00:01\r",
      "\u001b[K     |███████████████████████▊        | 92 kB 5.6 MB/s eta 0:00:01\r",
      "\u001b[K     |██████████████████████████▎     | 102 kB 4.4 MB/s eta 0:00:01\r",
      "\u001b[K     |█████████████████████████████   | 112 kB 4.4 MB/s eta 0:00:01\r",
      "\u001b[K     |███████████████████████████████▋| 122 kB 4.4 MB/s eta 0:00:01\r",
      "\u001b[K     |████████████████████████████████| 124 kB 4.4 MB/s \n",
      "\u001b[?25hRequirement already satisfied: numpy in /usr/local/lib/python3.7/dist-packages (from tensorboardX) (1.19.5)\n",
      "Requirement already satisfied: protobuf>=3.8.0 in /usr/local/lib/python3.7/dist-packages (from tensorboardX) (3.17.3)\n",
      "Requirement already satisfied: six>=1.9 in /usr/local/lib/python3.7/dist-packages (from protobuf>=3.8.0->tensorboardX) (1.15.0)\n",
      "Installing collected packages: tensorboardX\n",
      "Successfully installed tensorboardX-2.4\n"
     ]
    }
   ],
   "source": [
    "!pip install tensorboardX"
   ]
  },
  {
   "cell_type": "code",
   "execution_count": null,
   "metadata": {
    "id": "OomqG2yCihsA"
   },
   "outputs": [],
   "source": [
    "# dependencies from model_ae_tree*.py\n",
    "from torch.utils.data import Dataset\n",
    "import torch\n",
    "import pickle\n",
    "import torch.nn as nn\n",
    "import torch.nn.functional as F\n",
    "import copy\n",
    "import os\n",
    "import numpy as np"
   ]
  },
  {
   "cell_type": "code",
   "execution_count": null,
   "metadata": {
    "id": "7jaN_7HhatwM"
   },
   "outputs": [],
   "source": [
    "import math\n",
    "import numpy as np\n",
    "from collections import defaultdict\n",
    "\n",
    "import torch\n",
    "from torch.optim import Adam\n",
    "from torch.optim.lr_scheduler import StepLR\n",
    "from torch.utils.data import DataLoader\n",
    "\n",
    "import sys\n",
    "sys.path.append('../')\n",
    "\n",
    "\n",
    "import copy\n",
    "import time\n",
    "from tensorboardX import SummaryWriter"
   ]
  },
  {
   "cell_type": "code",
   "execution_count": null,
   "metadata": {
    "colab": {
     "base_uri": "https://localhost:8080/"
    },
    "executionInfo": {
     "elapsed": 17738,
     "status": "ok",
     "timestamp": 1627416372640,
     "user": {
      "displayName": "Lazarus Chok",
      "photoUrl": "",
      "userId": "15031850805138681927"
     },
     "user_tz": 240
    },
    "id": "4tkkDNKrks3Q",
    "outputId": "22b9595c-fc51-46ec-d477-f352b5851103"
   },
   "outputs": [
    {
     "name": "stdout",
     "output_type": "stream",
     "text": [
      "Mounted at /content/drive\n"
     ]
    }
   ],
   "source": [
    "from google.colab import drive\n",
    "drive.mount('/content/drive')"
   ]
  },
  {
   "cell_type": "code",
   "execution_count": null,
   "metadata": {
    "id": "_CKX90_mbfvS"
   },
   "outputs": [],
   "source": [
    "import os\n",
    "os.chdir('/content/drive/My Drive/Colab Notebooks')"
   ]
  },
  {
   "cell_type": "code",
   "execution_count": null,
   "metadata": {
    "id": "iOfbixXEere7"
   },
   "outputs": [],
   "source": [
    "from matplotlib import pyplot as plt\n",
    "import matplotlib.patches as patches\n",
    "from matplotlib.axes._axes import _log as matplotlib_axes_logger\n",
    "matplotlib_axes_logger.setLevel('ERROR')\n",
    "\n",
    "\n",
    "def rotate_xy_2(p, sin, cos, center):\n",
    "    x_ = (p[:,0:1]-center[:,0:1])*cos-(p[:,1:2]-center[:,1:2])*sin+center[:,0:1]\n",
    "    y_ = (p[:,0:1]-center[:,0:1])*sin+(p[:,1:2]-center[:,1:2])*cos+center[:,1:2]\n",
    "#     print(((p[:,0:1]-center[:,0:1])*cos).shape, cos.shape, x_.shape)\n",
    "    return np.hstack((x_, y_))\n",
    "\n",
    "def get_box_2(P, F):\n",
    "    ld = np.hstack((P[:,0:1]-F[:,0:1]/2, P[:,1:2]-F[:,1:2]/2))\n",
    "    rd = np.hstack((P[:,0:1]+F[:,0:1]/2, P[:,1:2]-F[:,1:2]/2))\n",
    "    ru = np.hstack((P[:,0:1]+F[:,0:1]/2, P[:,1:2]+F[:,1:2]/2))\n",
    "    lu = np.hstack((P[:,0:1]-F[:,0:1]/2, P[:,1:2]+F[:,1:2]/2))\n",
    "    # box = np.hstack((ld, rd, ru, lu)).reshape(len(P), -1, 2)\n",
    "    sinO = np.sin(F[:,2:3])\n",
    "    cosO = np.cos(F[:,2:3])\n",
    "\n",
    "    ld_r = rotate_xy_2(ld, sinO, cosO, P)\n",
    "    rd_r = rotate_xy_2(rd, sinO, cosO, P)\n",
    "    ru_r = rotate_xy_2(ru, sinO, cosO, P)\n",
    "    lu_r = rotate_xy_2(lu, sinO, cosO, P)\n",
    "    if(len(P)>0):\n",
    "        box_r = np.hstack((ld_r, rd_r, ru_r, lu_r)).reshape(len(P), -1, 2)\n",
    "    else:\n",
    "        box_r = []\n",
    "    return box_r\n",
    "\n",
    "def draw_polygon_c(pc, center, color):\n",
    "\n",
    "    X, Y= pc[:, 0], pc[:,1]\n",
    "    plt.plot(X, Y, c=color)\n",
    "    plt.plot([X[-1],X[0]], [Y[-1],Y[0]], c=color)\n",
    "\n",
    "def draw_box(box, center, color):\n",
    "    for i, p in enumerate(box):\n",
    "        c = 'b' if color[i] else 'r'\n",
    "        draw_polygon_c(p, center[i], c)\n",
    "\n",
    "def plot_boxes(samples, center, color, n, m, save=False, savename='pclouds'):\n",
    "    fig = plt.figure(figsize=(5*m,5*n))\n",
    "    fig.set_tight_layout(True)\n",
    "    for i in range(n):\n",
    "        for j in range(m):\n",
    "            idx = i * m + j\n",
    "            ax = fig.add_subplot(n, m, idx+1)\n",
    "            draw_box(samples[idx], center[idx], color[idx])\n",
    "    if save:\n",
    "        plt.savefig(savename)\n",
    "\n",
    "    plt.show()"
   ]
  },
  {
   "cell_type": "code",
   "execution_count": null,
   "metadata": {
    "id": "iKpFI3vXnZDG"
   },
   "outputs": [],
   "source": [
    "def inference(P, F, n, out=[]):\n",
    "    '''\n",
    "    Input:\n",
    "        P: Positions of initial node  n*3\n",
    "        F: Features of initial node  n*d\n",
    "        n: Max level of generated tree\n",
    "    Output:\n",
    "        out: Position List of generated children nodes\n",
    "    '''\n",
    "    if(n == 0):\n",
    "        return out\n",
    "    P_list = []\n",
    "    P_list_re = []\n",
    "    I_list = []\n",
    "    leaf_node_list = []\n",
    "\n",
    "    tmp_P = P\n",
    "    tmp_F = F\n",
    "    father_I = torch.zeros((1,1))\n",
    "    P_list.append(P[0])\n",
    "    print(n)\n",
    "    for i in range(n):\n",
    "        print('--------------',i,'---------------')\n",
    "        left_featrue, left_P, left_isleaf, right_featrue, right_P, right_isleaf = model.decoder(tmp_F, tmp_P)\n",
    "        print(left_featrue.shape, left_P.shape, left_isleaf.shape, right_featrue.shape, right_P.shape, right_isleaf.shape)\n",
    "        print(left_P, left_isleaf, right_P, right_isleaf)\n",
    "\n",
    "        left_xy_new = left_P[:,:2] * tmp_P[:,2:4] + tmp_P[:,:2]\n",
    "        left_P[:,:2] = left_xy_new\n",
    "        left_wh_new = left_P[:,2:4] * tmp_P[:,2:4]\n",
    "        left_P[:,2:4] = left_wh_new\n",
    "        left_a_new = left_P[:,4] + tmp_P[:,4]\n",
    "        left_P[:,4] = left_a_new\n",
    "\n",
    "        right_xy_new = right_P[:,:2] * tmp_P[:,2:4] + tmp_P[:,:2]\n",
    "        right_P[:,:2] = right_xy_new\n",
    "        right_wh_new = right_P[:,2:4] * tmp_P[:,2:4]\n",
    "        right_P[:,2:4] = right_wh_new\n",
    "        right_a_new = right_P[:,4] + tmp_P[:,4]\n",
    "        right_P[:,4] = right_a_new\n",
    "\n",
    "        I = np.zeros(len(left_P)*2, dtype='int32')\n",
    "\n",
    "        temp_I_list = []\n",
    "        left_node_index = torch.zeros((len(left_P),1))\n",
    "        right_node_index = torch.zeros((len(right_P),1))\n",
    "\n",
    "        for j in range(len(left_P)):\n",
    "\n",
    "            P_list.append(left_P[j])\n",
    "            left_index =len(P_list) -1\n",
    "            P_list.append(right_P[j])\n",
    "            right_index =len(P_list) -1\n",
    "\n",
    "            father_index = father_I[j].detach().numpy()\n",
    "            father_index = int(father_index)\n",
    "            temp_I = [left_index, right_index, father_index]\n",
    "\n",
    "            I[2*j] = left_index\n",
    "            I[2*j+1] = right_index\n",
    "            left_node_index[j] = left_index\n",
    "            right_node_index[j] = right_index\n",
    "\n",
    "            print('*******I:', temp_I)\n",
    "            temp_I_list.append(temp_I)\n",
    "\n",
    "        if(temp_I_list):\n",
    "            I_list.append(temp_I_list)\n",
    "\n",
    "\n",
    "        print(I)\n",
    "\n",
    "        tmp_F = []\n",
    "        tmp_P = []\n",
    "        father_I = []\n",
    "\n",
    "        print(left_isleaf, right_isleaf)\n",
    "\n",
    "        left_isleaf = torch.round(left_isleaf)[:,0]\n",
    "        right_isleaf = torch.round(right_isleaf)[:,0]\n",
    "\n",
    "        print(left_isleaf, right_isleaf)\n",
    "\n",
    "        tmp_F.append(left_featrue[left_isleaf==0,:])\n",
    "        tmp_P.append(left_P[left_isleaf==0,:])\n",
    "        father_I.append(left_node_index[left_isleaf==0,:])\n",
    "\n",
    "        tmp_F.append(right_featrue[right_isleaf==0,:])\n",
    "        tmp_P.append(right_P[right_isleaf==0,:])\n",
    "        father_I.append(right_node_index[right_isleaf==0,:])\n",
    "\n",
    "        print('lllllll', father_I)\n",
    "#         print(father_I[0].shape)\n",
    "        tmp_F = torch.cat(tmp_F, 0)\n",
    "        tmp_P = torch.cat(tmp_P, 0)\n",
    "        father_I = torch.cat(father_I, 0)\n",
    "#         print(father_I[0].shape)\n",
    "\n",
    "        print(tmp_F.shape)\n",
    "        print(tmp_P.shape)\n",
    "\n",
    "    P_list = torch.stack(P_list)\n",
    "    return P_list, I_list\n",
    "\n",
    "def get_last_box(root_X, root_F, n_layer):\n",
    "    P_list, I_list = inference(root_X, root_F, n_layer)\n",
    "    X_ab_r = P_list.detach().numpy()\n",
    "    box_infer_list = []\n",
    "    center_infer_list = []\n",
    "    txt_infer_list = []\n",
    "    color_infer_list = []\n",
    "\n",
    "    n = 1\n",
    "    node_index = np.arange(1)\n",
    "    color = np.zeros(len(node_index))\n",
    "    P = X_ab_r[node_index,:2]\n",
    "    F = X_ab_r[node_index,2:]\n",
    "    box = get_box_2(P,F)\n",
    "    box_infer_list.append(box)\n",
    "    center_infer_list.append(P)\n",
    "    txt_infer_list.append(node_index)\n",
    "    color_infer_list.append(color)\n",
    "\n",
    "    for Ii in I_list:\n",
    "        Ii= np.array(Ii)\n",
    "        left_idx = (Ii[:,0]).astype('int32')\n",
    "        right_idx = (Ii[:,1]).astype('int32')\n",
    "        father_idx = (Ii[:,2]).astype('int32')\n",
    "    #     print(left_idx, right_idx, father_idx,node_index)\n",
    "        node_index = list(set(node_index) -  set(father_idx) | set(left_idx) | set(right_idx))\n",
    "    #     print(node_index)\n",
    "        color = np.zeros(len(node_index))\n",
    "        for idx in father_idx:\n",
    "            color[(np.arange(len(node_index))[node_index==idx])]=1\n",
    "\n",
    "        if(len(node_index)>0):\n",
    "            P = X_ab_r[node_index,:2]\n",
    "            F = X_ab_r[node_index,2:]\n",
    "    #         print(P,F)\n",
    "            box = get_box_2(P,F)\n",
    "    #         print(box)\n",
    "            box_infer_list.append(box)\n",
    "            center_infer_list.append(P)\n",
    "            txt_infer_list.append(node_index)\n",
    "            color_infer_list.append(color)\n",
    "            n = n + 1\n",
    "    return box_infer_list[-1], txt_infer_list[-1], center_infer_list[-1], color_infer_list[-1]"
   ]
  },
  {
   "cell_type": "markdown",
   "metadata": {
    "id": "HTuCje8tdq1U"
   },
   "source": [
    "##**Print layouts**"
   ]
  },
  {
   "cell_type": "code",
   "execution_count": null,
   "metadata": {
    "id": "SSjfg47kB9NZ"
   },
   "outputs": [],
   "source": [
    "import model_ae_tree_box_ab2_new_re_weight_lstm_print\n",
    "from model_ae_tree_box_ab2_new_re_weight_lstm_print import *\n",
    "\n",
    "trainset = TreeData(data_folder=\"32boxes_coordinates.pickle\", train=True, split=1, n_feature=512, num_box=32, batch_size=50)\n",
    "train_loader = torch.utils.data.DataLoader(trainset, batch_size=1, shuffle=False)\n",
    "\n",
    "model = AE.load_from_drive(AE, name='city_layout_analysis/tree_lstm_64_test_32box_2_best', model_dir='', device=torch.device('cuda'), n_feature=512)"
   ]
  },
  {
   "cell_type": "code",
   "execution_count": null,
   "metadata": {
    "id": "4WsBWoVXxQQj"
   },
   "outputs": [],
   "source": [
    "all_features = {}\n",
    "for i,v in enumerate(train_loader, 0):\n",
    "    all_features[i] = v"
   ]
  },
  {
   "cell_type": "code",
   "execution_count": null,
   "metadata": {
    "id": "hvS9_uwlz48P"
   },
   "outputs": [],
   "source": [
    "def plot_box(train_index):\n",
    "\n",
    "  batch = train_index//50\n",
    "  batch_num = train_index%50\n",
    "\n",
    "  X, I_list, Feature, Node_is_leaf = all_features[batch]\n",
    "\n",
    "  X = X.squeeze(0)\n",
    "  Feature = Feature.squeeze(0)\n",
    "  Node_is_leaf = Node_is_leaf.squeeze(0)\n",
    "  X = X.float()\n",
    "  Feature = Feature.float()\n",
    "\n",
    "  Feature_New = model.encode(X, Feature, I_list)\n",
    "  X_r, X_ab_xy, X_ab_xy_r, Feature_r, Loss_P, Loss_Leaf, Num, _, _ = model.decode(X, Node_is_leaf, Feature_New, I_list)\n",
    "  X_ab_xy = X_ab_xy.detach().numpy()\n",
    "\n",
    "  N = 32 #change num_boxes\n",
    "  N_total = 2*N-1\n",
    "  X_tree0 = X_ab_xy[N_total*batch_num:N_total*(batch_num+1),:2]\n",
    "  Feature_tree0 = X_ab_xy[N_total*batch_num:N_total*(batch_num+1),2:]\n",
    "\n",
    "  box_list = []\n",
    "  center_list = []\n",
    "  # txt_list = []\n",
    "  color_list = []\n",
    "\n",
    "  node_index = np.arange(N)\n",
    "  color = np.zeros(len(node_index))\n",
    "  P = X_tree0[node_index,:2]\n",
    "  F = Feature_tree0[node_index]\n",
    "  box = get_box_2(P,F)\n",
    "  box_list.append(box)\n",
    "  center_list.append(P)\n",
    "  # txt_list.append(node_index)\n",
    "  color_list.append(color)\n",
    "\n",
    "  plot_boxes(box_list, center_list, color_list, 1, 1)\n",
    "  # return(P, F)"
   ]
  },
  {
   "cell_type": "code",
   "execution_count": null,
   "metadata": {
    "colab": {
     "base_uri": "https://localhost:8080/",
     "height": 368
    },
    "executionInfo": {
     "elapsed": 913,
     "status": "ok",
     "timestamp": 1627416555856,
     "user": {
      "displayName": "Lazarus Chok",
      "photoUrl": "",
      "userId": "15031850805138681927"
     },
     "user_tz": 240
    },
    "id": "iHrKjWTVd4p2",
    "outputId": "0197e0af-f080-4f00-9b78-4810a9006647"
   },
   "outputs": [
    {
     "data": {
      "image/png": "[encoded data removed]",
      "text/plain": [
       "<Figure size 360x360 with 1 Axes>"
      ]
     },
     "metadata": {
      "needs_background": "light",
      "tags": []
     },
     "output_type": "display_data"
    }
   ],
   "source": [
    "# use the index (0 - 44999)\n",
    "# you might need to -1 to the index, i.e. there is no index=45000 layout\n",
    "plot_box(0)"
   ]
  },
  {
   "cell_type": "markdown",
   "metadata": {
    "id": "HmodevImB2Fm"
   },
   "source": [
    "##**Geometric statistics**"
   ]
  },
  {
   "cell_type": "code",
   "execution_count": null,
   "metadata": {
    "colab": {
     "base_uri": "https://localhost:8080/",
     "height": 229
    },
    "executionInfo": {
     "elapsed": 128,
     "status": "error",
     "timestamp": 1627414827367,
     "user": {
      "displayName": "Yan Liang Tan",
      "photoUrl": "",
      "userId": "11100671491657096354"
     },
     "user_tz": 240
    },
    "id": "AOiz35VUCEMn",
    "outputId": "291cbdf8-d4e2-490e-ec1f-f3003716e98e"
   },
   "outputs": [
    {
     "ename": "KeyError",
     "evalue": "ignored",
     "output_type": "error",
     "traceback": [
      "\u001b[0;31m---------------------------------------------------------------------------\u001b[0m",
      "\u001b[0;31mKeyError\u001b[0m                                  Traceback (most recent call last)",
      "\u001b[0;32m<ipython-input-20-6610d3c05b5c>\u001b[0m in \u001b[0;36m<module>\u001b[0;34m()\u001b[0m\n\u001b[1;32m     10\u001b[0m \u001b[0;32mfor\u001b[0m \u001b[0mbatch\u001b[0m \u001b[0;32min\u001b[0m \u001b[0mrange\u001b[0m\u001b[0;34m(\u001b[0m\u001b[0;36m900\u001b[0m\u001b[0;34m)\u001b[0m\u001b[0;34m:\u001b[0m\u001b[0;34m\u001b[0m\u001b[0;34m\u001b[0m\u001b[0m\n\u001b[1;32m     11\u001b[0m \u001b[0;34m\u001b[0m\u001b[0m\n\u001b[0;32m---> 12\u001b[0;31m   \u001b[0mX\u001b[0m\u001b[0;34m,\u001b[0m \u001b[0mI_list\u001b[0m\u001b[0;34m,\u001b[0m \u001b[0mFeature\u001b[0m\u001b[0;34m,\u001b[0m \u001b[0mNode_is_leaf\u001b[0m \u001b[0;34m=\u001b[0m \u001b[0mall_features\u001b[0m\u001b[0;34m[\u001b[0m\u001b[0mbatch\u001b[0m\u001b[0;34m]\u001b[0m\u001b[0;34m\u001b[0m\u001b[0;34m\u001b[0m\u001b[0m\n\u001b[0m\u001b[1;32m     13\u001b[0m \u001b[0;34m\u001b[0m\u001b[0m\n\u001b[1;32m     14\u001b[0m   \u001b[0mX\u001b[0m \u001b[0;34m=\u001b[0m \u001b[0mX\u001b[0m\u001b[0;34m.\u001b[0m\u001b[0msqueeze\u001b[0m\u001b[0;34m(\u001b[0m\u001b[0;36m0\u001b[0m\u001b[0;34m)\u001b[0m\u001b[0;34m\u001b[0m\u001b[0;34m\u001b[0m\u001b[0m\n",
      "\u001b[0;31mKeyError\u001b[0m: 0"
     ]
    }
   ],
   "source": [
    "### CALCULATE LENGTH-WIDTH STATISTICS\n",
    "\n",
    "N = 32\n",
    "N_total = 2*N-1\n",
    "node_index = np.arange(N)\n",
    "avg_lw = []\n",
    "std_lw = []\n",
    "range_lw = []\n",
    "\n",
    "for batch in range(900):\n",
    "\n",
    "  X, I_list, Feature, Node_is_leaf = all_features[batch]\n",
    "\n",
    "  X = X.squeeze(0)\n",
    "  Feature = Feature.squeeze(0)\n",
    "  Node_is_leaf = Node_is_leaf.squeeze(0)\n",
    "  X = X.float()\n",
    "  Feature = Feature.float()\n",
    "\n",
    "  Feature_New = model.encode(X, Feature, I_list)\n",
    "  X_r, X_ab_xy, X_ab_xy_r, Feature_r, Loss_P, Loss_Leaf, Num, _, _ = model.decode(X, Node_is_leaf, Feature_New, I_list)\n",
    "  X_ab_xy = X_ab_xy.detach().numpy()\n",
    "\n",
    "  for batch_num in range(50):\n",
    "\n",
    "#    X_tree0 = X_ab_xy[N_total*batch_num:N_total*(batch_num+1),:2]\n",
    "    Feature_tree0 = X_ab_xy[N_total*batch_num:N_total*(batch_num+1),2:]\n",
    "#    P = X_tree0[node_index,:2]\n",
    "    F = Feature_tree0[node_index]\n",
    "\n",
    "    lw = [i[0]/i[1] for i in F]\n",
    "    avg_lw.append(np.average(lw))\n",
    "    std_lw.append(np.std(lw))\n",
    "    range_lw.append(np.max(lw) - np.min(lw))"
   ]
  },
  {
   "cell_type": "code",
   "execution_count": null,
   "metadata": {
    "colab": {
     "base_uri": "https://localhost:8080/",
     "height": 246
    },
    "executionInfo": {
     "elapsed": 143,
     "status": "error",
     "timestamp": 1627414828919,
     "user": {
      "displayName": "Yan Liang Tan",
      "photoUrl": "",
      "userId": "11100671491657096354"
     },
     "user_tz": 240
    },
    "id": "VHgeK_Sj1MI8",
    "outputId": "fa0e14c5-453e-4495-b81c-20c7e4a7db0a"
   },
   "outputs": [
    {
     "name": "stdout",
     "output_type": "stream",
     "text": [
      "running batch: 0\n"
     ]
    },
    {
     "ename": "KeyError",
     "evalue": "ignored",
     "output_type": "error",
     "traceback": [
      "\u001b[0;31m---------------------------------------------------------------------------\u001b[0m",
      "\u001b[0;31mKeyError\u001b[0m                                  Traceback (most recent call last)",
      "\u001b[0;32m<ipython-input-21-a9328d80829a>\u001b[0m in \u001b[0;36m<module>\u001b[0;34m()\u001b[0m\n\u001b[1;32m     12\u001b[0m     \u001b[0mprint\u001b[0m\u001b[0;34m(\u001b[0m\u001b[0;34m'running batch:'\u001b[0m\u001b[0;34m,\u001b[0m\u001b[0mbatch\u001b[0m\u001b[0;34m)\u001b[0m\u001b[0;34m\u001b[0m\u001b[0;34m\u001b[0m\u001b[0m\n\u001b[1;32m     13\u001b[0m \u001b[0;34m\u001b[0m\u001b[0m\n\u001b[0;32m---> 14\u001b[0;31m   \u001b[0mX\u001b[0m\u001b[0;34m,\u001b[0m \u001b[0mI_list\u001b[0m\u001b[0;34m,\u001b[0m \u001b[0mFeature\u001b[0m\u001b[0;34m,\u001b[0m \u001b[0mNode_is_leaf\u001b[0m \u001b[0;34m=\u001b[0m \u001b[0mall_features\u001b[0m\u001b[0;34m[\u001b[0m\u001b[0mbatch\u001b[0m\u001b[0;34m]\u001b[0m\u001b[0;34m\u001b[0m\u001b[0;34m\u001b[0m\u001b[0m\n\u001b[0m\u001b[1;32m     15\u001b[0m \u001b[0;34m\u001b[0m\u001b[0m\n\u001b[1;32m     16\u001b[0m   \u001b[0mX\u001b[0m \u001b[0;34m=\u001b[0m \u001b[0mX\u001b[0m\u001b[0;34m.\u001b[0m\u001b[0msqueeze\u001b[0m\u001b[0;34m(\u001b[0m\u001b[0;36m0\u001b[0m\u001b[0;34m)\u001b[0m\u001b[0;34m\u001b[0m\u001b[0;34m\u001b[0m\u001b[0m\n",
      "\u001b[0;31mKeyError\u001b[0m: 0"
     ]
    }
   ],
   "source": [
    "### CALCULATE AREA/PERIMETER STATISTICS\n",
    "\n",
    "N = 32\n",
    "N_total = 2*N-1\n",
    "node_index = np.arange(N)\n",
    "area = []\n",
    "perimeter = []\n",
    "\n",
    "for batch in range(900):\n",
    "\n",
    "  if batch % 100 == 0:\n",
    "    print('running batch:',batch)\n",
    "\n",
    "  X, I_list, Feature, Node_is_leaf = all_features[batch]\n",
    "\n",
    "  X = X.squeeze(0)\n",
    "  Feature = Feature.squeeze(0)\n",
    "  Node_is_leaf = Node_is_leaf.squeeze(0)\n",
    "  X = X.float()\n",
    "  Feature = Feature.float()\n",
    "\n",
    "  Feature_New = model.encode(X, Feature, I_list)\n",
    "  X_r, X_ab_xy, X_ab_xy_r, Feature_r, Loss_P, Loss_Leaf, Num, _, _ = model.decode(X, Node_is_leaf, Feature_New, I_list)\n",
    "  X_ab_xy = X_ab_xy.detach().numpy()\n",
    "\n",
    "  for batch_num in range(50):\n",
    "\n",
    "#    X_tree0 = X_ab_xy[N_total*batch_num:N_total*(batch_num+1),:2]\n",
    "    Feature_tree0 = X_ab_xy[N_total*batch_num:N_total*(batch_num+1),2:]\n",
    "#    P = X_tree0[node_index,:2]\n",
    "    F = Feature_tree0[node_index]\n",
    "\n",
    "    area.append(sum([i[0] * i[1] for i in F]))\n",
    "    perimeter.append(sum([i[0]*2 + i[1]*2 for i in F]))"
   ]
  },
  {
   "cell_type": "code",
   "execution_count": null,
   "metadata": {
    "colab": {
     "base_uri": "https://localhost:8080/",
     "height": 246
    },
    "executionInfo": {
     "elapsed": 12,
     "status": "error",
     "timestamp": 1627414830833,
     "user": {
      "displayName": "Yan Liang Tan",
      "photoUrl": "",
      "userId": "11100671491657096354"
     },
     "user_tz": 240
    },
    "id": "Ei8fKrbApFIK",
    "outputId": "4eca7cd6-2912-4f11-dde6-ed16535f5dd4"
   },
   "outputs": [
    {
     "name": "stdout",
     "output_type": "stream",
     "text": [
      "running batch: 0\n"
     ]
    },
    {
     "ename": "KeyError",
     "evalue": "ignored",
     "output_type": "error",
     "traceback": [
      "\u001b[0;31m---------------------------------------------------------------------------\u001b[0m",
      "\u001b[0;31mKeyError\u001b[0m                                  Traceback (most recent call last)",
      "\u001b[0;32m<ipython-input-22-81122f817a63>\u001b[0m in \u001b[0;36m<module>\u001b[0;34m()\u001b[0m\n\u001b[1;32m     12\u001b[0m     \u001b[0mprint\u001b[0m\u001b[0;34m(\u001b[0m\u001b[0;34m'running batch:'\u001b[0m\u001b[0;34m,\u001b[0m\u001b[0mbatch\u001b[0m\u001b[0;34m)\u001b[0m\u001b[0;34m\u001b[0m\u001b[0;34m\u001b[0m\u001b[0m\n\u001b[1;32m     13\u001b[0m \u001b[0;34m\u001b[0m\u001b[0m\n\u001b[0;32m---> 14\u001b[0;31m   \u001b[0mX\u001b[0m\u001b[0;34m,\u001b[0m \u001b[0mI_list\u001b[0m\u001b[0;34m,\u001b[0m \u001b[0mFeature\u001b[0m\u001b[0;34m,\u001b[0m \u001b[0mNode_is_leaf\u001b[0m \u001b[0;34m=\u001b[0m \u001b[0mall_features\u001b[0m\u001b[0;34m[\u001b[0m\u001b[0mbatch\u001b[0m\u001b[0;34m]\u001b[0m\u001b[0;34m\u001b[0m\u001b[0;34m\u001b[0m\u001b[0m\n\u001b[0m\u001b[1;32m     15\u001b[0m \u001b[0;34m\u001b[0m\u001b[0m\n\u001b[1;32m     16\u001b[0m   \u001b[0mX\u001b[0m \u001b[0;34m=\u001b[0m \u001b[0mX\u001b[0m\u001b[0;34m.\u001b[0m\u001b[0msqueeze\u001b[0m\u001b[0;34m(\u001b[0m\u001b[0;36m0\u001b[0m\u001b[0;34m)\u001b[0m\u001b[0;34m\u001b[0m\u001b[0;34m\u001b[0m\u001b[0m\n",
      "\u001b[0;31mKeyError\u001b[0m: 0"
     ]
    }
   ],
   "source": [
    "### CALCULATE ROTATION STATISTICS\n",
    "\n",
    "N = 32\n",
    "N_total = 2*N-1\n",
    "node_index = np.arange(N)\n",
    "std_rot = []\n",
    "mean_rot = []\n",
    "\n",
    "for batch in range(900):\n",
    "\n",
    "  if batch % 100 == 0:\n",
    "    print('running batch:',batch)\n",
    "\n",
    "  X, I_list, Feature, Node_is_leaf = all_features[batch]\n",
    "\n",
    "  X = X.squeeze(0)\n",
    "  Feature = Feature.squeeze(0)\n",
    "  Node_is_leaf = Node_is_leaf.squeeze(0)\n",
    "  X = X.float()\n",
    "  Feature = Feature.float()\n",
    "\n",
    "  Feature_New = model.encode(X, Feature, I_list)\n",
    "  X_r, X_ab_xy, X_ab_xy_r, Feature_r, Loss_P, Loss_Leaf, Num, _, _ = model.decode(X, Node_is_leaf, Feature_New, I_list)\n",
    "  X_ab_xy = X_ab_xy.detach().numpy()\n",
    "\n",
    "  for batch_num in range(50):\n",
    "\n",
    "#    X_tree0 = X_ab_xy[N_total*batch_num:N_total*(batch_num+1),:2]\n",
    "    Feature_tree0 = X_ab_xy[N_total*batch_num:N_total*(batch_num+1),2:]\n",
    "#    P = X_tree0[node_index,:2]\n",
    "    F = Feature_tree0[node_index]\n",
    "\n",
    "    rot = [i[2] for i in F]\n",
    "    std_rot.append(np.std(rot))\n",
    "    mean_rot.append(np.average(rot))"
   ]
  },
  {
   "cell_type": "code",
   "execution_count": null,
   "metadata": {
    "colab": {
     "base_uri": "https://localhost:8080/",
     "height": 246
    },
    "executionInfo": {
     "elapsed": 224,
     "status": "error",
     "timestamp": 1627414832996,
     "user": {
      "displayName": "Yan Liang Tan",
      "photoUrl": "",
      "userId": "11100671491657096354"
     },
     "user_tz": 240
    },
    "id": "OH51gqmaa_dE",
    "outputId": "87725a74-0597-417a-8317-5dbfd46851a5"
   },
   "outputs": [
    {
     "name": "stdout",
     "output_type": "stream",
     "text": [
      "running batch: 0\n"
     ]
    },
    {
     "ename": "KeyError",
     "evalue": "ignored",
     "output_type": "error",
     "traceback": [
      "\u001b[0;31m---------------------------------------------------------------------------\u001b[0m",
      "\u001b[0;31mKeyError\u001b[0m                                  Traceback (most recent call last)",
      "\u001b[0;32m<ipython-input-23-a8f498cc3466>\u001b[0m in \u001b[0;36m<module>\u001b[0;34m()\u001b[0m\n\u001b[1;32m     16\u001b[0m     \u001b[0mprint\u001b[0m\u001b[0;34m(\u001b[0m\u001b[0;34m'running batch:'\u001b[0m\u001b[0;34m,\u001b[0m\u001b[0mbatch\u001b[0m\u001b[0;34m)\u001b[0m\u001b[0;34m\u001b[0m\u001b[0;34m\u001b[0m\u001b[0m\n\u001b[1;32m     17\u001b[0m \u001b[0;34m\u001b[0m\u001b[0m\n\u001b[0;32m---> 18\u001b[0;31m   \u001b[0mX\u001b[0m\u001b[0;34m,\u001b[0m \u001b[0mI_list\u001b[0m\u001b[0;34m,\u001b[0m \u001b[0mFeature\u001b[0m\u001b[0;34m,\u001b[0m \u001b[0mNode_is_leaf\u001b[0m \u001b[0;34m=\u001b[0m \u001b[0mall_features\u001b[0m\u001b[0;34m[\u001b[0m\u001b[0mbatch\u001b[0m\u001b[0;34m]\u001b[0m\u001b[0;34m\u001b[0m\u001b[0;34m\u001b[0m\u001b[0m\n\u001b[0m\u001b[1;32m     19\u001b[0m \u001b[0;34m\u001b[0m\u001b[0m\n\u001b[1;32m     20\u001b[0m   \u001b[0mX\u001b[0m \u001b[0;34m=\u001b[0m \u001b[0mX\u001b[0m\u001b[0;34m.\u001b[0m\u001b[0msqueeze\u001b[0m\u001b[0;34m(\u001b[0m\u001b[0;36m0\u001b[0m\u001b[0;34m)\u001b[0m\u001b[0;34m\u001b[0m\u001b[0;34m\u001b[0m\u001b[0m\n",
      "\u001b[0;31mKeyError\u001b[0m: 0"
     ]
    }
   ],
   "source": [
    "### CALCULATE ++ AREA/PERIMETER STATISTICS\n",
    "\n",
    "N = 32\n",
    "N_total = 2*N-1\n",
    "node_index = np.arange(N)\n",
    "std_area = []\n",
    "mean_area = []\n",
    "range_area = []\n",
    "std_perimeter = []\n",
    "mean_perimeter = []\n",
    "range_perimeter = []\n",
    "\n",
    "for batch in range(900):\n",
    "\n",
    "  if batch % 100 == 0:\n",
    "    print('running batch:',batch)\n",
    "\n",
    "  X, I_list, Feature, Node_is_leaf = all_features[batch]\n",
    "\n",
    "  X = X.squeeze(0)\n",
    "  Feature = Feature.squeeze(0)\n",
    "  Node_is_leaf = Node_is_leaf.squeeze(0)\n",
    "  X = X.float()\n",
    "  Feature = Feature.float()\n",
    "\n",
    "  Feature_New = model.encode(X, Feature, I_list)\n",
    "  X_r, X_ab_xy, X_ab_xy_r, Feature_r, Loss_P, Loss_Leaf, Num, _, _ = model.decode(X, Node_is_leaf, Feature_New, I_list)\n",
    "  X_ab_xy = X_ab_xy.detach().numpy()\n",
    "\n",
    "  for batch_num in range(50):\n",
    "\n",
    "#    X_tree0 = X_ab_xy[N_total*batch_num:N_total*(batch_num+1),:2]\n",
    "    Feature_tree0 = X_ab_xy[N_total*batch_num:N_total*(batch_num+1),2:]\n",
    "#    P = X_tree0[node_index,:2]\n",
    "    F = Feature_tree0[node_index]\n",
    "\n",
    "    area = [i[0] * i[1] for i in F]\n",
    "    perimeter = [i[0]*2 + i[1]*2 for i in F]\n",
    "    std_area.append(np.std(area))\n",
    "    mean_area.append(np.average(area))\n",
    "    range_area.append(np.max(area)-np.min(area))\n",
    "    std_perimeter.append(np.std(perimeter))\n",
    "    mean_perimeter.append(np.average(perimeter))\n",
    "    range_perimeter.append(np.max(perimeter)-np.min(perimeter))"
   ]
  },
  {
   "cell_type": "markdown",
   "metadata": {
    "id": "epFEavo4_4t9"
   },
   "source": [
    "## **Save geometric features**"
   ]
  },
  {
   "cell_type": "code",
   "execution_count": null,
   "metadata": {
    "colab": {
     "base_uri": "https://localhost:8080/",
     "height": 387
    },
    "executionInfo": {
     "elapsed": 128,
     "status": "error",
     "timestamp": 1627414834883,
     "user": {
      "displayName": "Yan Liang Tan",
      "photoUrl": "",
      "userId": "11100671491657096354"
     },
     "user_tz": 240
    },
    "id": "8gA89wkYlcCl",
    "outputId": "7f1bd746-67cd-49ba-825d-a7ad6faee3bb"
   },
   "outputs": [
    {
     "ename": "FileNotFoundError",
     "evalue": "ignored",
     "output_type": "error",
     "traceback": [
      "\u001b[0;31m---------------------------------------------------------------------------\u001b[0m",
      "\u001b[0;31mFileNotFoundError\u001b[0m                         Traceback (most recent call last)",
      "\u001b[0;32m<ipython-input-24-f022024d0641>\u001b[0m in \u001b[0;36m<module>\u001b[0;34m()\u001b[0m\n\u001b[1;32m      1\u001b[0m \u001b[0;32mimport\u001b[0m \u001b[0mpandas\u001b[0m \u001b[0;32mas\u001b[0m \u001b[0mpd\u001b[0m\u001b[0;34m\u001b[0m\u001b[0;34m\u001b[0m\u001b[0m\n\u001b[0;32m----> 2\u001b[0;31m \u001b[0mcity_layouts\u001b[0m \u001b[0;34m=\u001b[0m \u001b[0mpd\u001b[0m\u001b[0;34m.\u001b[0m\u001b[0mread_csv\u001b[0m\u001b[0;34m(\u001b[0m\u001b[0;34m'city_layout_analysis/city_layouts.csv'\u001b[0m\u001b[0;34m,\u001b[0m\u001b[0mindex_col\u001b[0m\u001b[0;34m=\u001b[0m\u001b[0;36m0\u001b[0m\u001b[0;34m)\u001b[0m\u001b[0;34m\u001b[0m\u001b[0;34m\u001b[0m\u001b[0m\n\u001b[0m",
      "\u001b[0;32m/usr/local/lib/python3.7/dist-packages/pandas/io/parsers.py\u001b[0m in \u001b[0;36mread_csv\u001b[0;34m(filepath_or_buffer, sep, delimiter, header, names, index_col, usecols, squeeze, prefix, mangle_dupe_cols, dtype, engine, converters, true_values, false_values, skipinitialspace, skiprows, skipfooter, nrows, na_values, keep_default_na, na_filter, verbose, skip_blank_lines, parse_dates, infer_datetime_format, keep_date_col, date_parser, dayfirst, cache_dates, iterator, chunksize, compression, thousands, decimal, lineterminator, quotechar, quoting, doublequote, escapechar, comment, encoding, dialect, error_bad_lines, warn_bad_lines, delim_whitespace, low_memory, memory_map, float_precision)\u001b[0m\n\u001b[1;32m    686\u001b[0m     )\n\u001b[1;32m    687\u001b[0m \u001b[0;34m\u001b[0m\u001b[0m\n\u001b[0;32m--> 688\u001b[0;31m     \u001b[0;32mreturn\u001b[0m \u001b[0m_read\u001b[0m\u001b[0;34m(\u001b[0m\u001b[0mfilepath_or_buffer\u001b[0m\u001b[0;34m,\u001b[0m \u001b[0mkwds\u001b[0m\u001b[0;34m)\u001b[0m\u001b[0;34m\u001b[0m\u001b[0;34m\u001b[0m\u001b[0m\n\u001b[0m\u001b[1;32m    689\u001b[0m \u001b[0;34m\u001b[0m\u001b[0m\n\u001b[1;32m    690\u001b[0m \u001b[0;34m\u001b[0m\u001b[0m\n",
      "\u001b[0;32m/usr/local/lib/python3.7/dist-packages/pandas/io/parsers.py\u001b[0m in \u001b[0;36m_read\u001b[0;34m(filepath_or_buffer, kwds)\u001b[0m\n\u001b[1;32m    452\u001b[0m \u001b[0;34m\u001b[0m\u001b[0m\n\u001b[1;32m    453\u001b[0m     \u001b[0;31m# Create the parser.\u001b[0m\u001b[0;34m\u001b[0m\u001b[0;34m\u001b[0m\u001b[0;34m\u001b[0m\u001b[0m\n\u001b[0;32m--> 454\u001b[0;31m     \u001b[0mparser\u001b[0m \u001b[0;34m=\u001b[0m \u001b[0mTextFileReader\u001b[0m\u001b[0;34m(\u001b[0m\u001b[0mfp_or_buf\u001b[0m\u001b[0;34m,\u001b[0m \u001b[0;34m**\u001b[0m\u001b[0mkwds\u001b[0m\u001b[0;34m)\u001b[0m\u001b[0;34m\u001b[0m\u001b[0;34m\u001b[0m\u001b[0m\n\u001b[0m\u001b[1;32m    455\u001b[0m \u001b[0;34m\u001b[0m\u001b[0m\n\u001b[1;32m    456\u001b[0m     \u001b[0;32mif\u001b[0m \u001b[0mchunksize\u001b[0m \u001b[0;32mor\u001b[0m \u001b[0miterator\u001b[0m\u001b[0;34m:\u001b[0m\u001b[0;34m\u001b[0m\u001b[0;34m\u001b[0m\u001b[0m\n",
      "\u001b[0;32m/usr/local/lib/python3.7/dist-packages/pandas/io/parsers.py\u001b[0m in \u001b[0;36m__init__\u001b[0;34m(self, f, engine, **kwds)\u001b[0m\n\u001b[1;32m    946\u001b[0m             \u001b[0mself\u001b[0m\u001b[0;34m.\u001b[0m\u001b[0moptions\u001b[0m\u001b[0;34m[\u001b[0m\u001b[0;34m\"has_index_names\"\u001b[0m\u001b[0;34m]\u001b[0m \u001b[0;34m=\u001b[0m \u001b[0mkwds\u001b[0m\u001b[0;34m[\u001b[0m\u001b[0;34m\"has_index_names\"\u001b[0m\u001b[0;34m]\u001b[0m\u001b[0;34m\u001b[0m\u001b[0;34m\u001b[0m\u001b[0m\n\u001b[1;32m    947\u001b[0m \u001b[0;34m\u001b[0m\u001b[0m\n\u001b[0;32m--> 948\u001b[0;31m         \u001b[0mself\u001b[0m\u001b[0;34m.\u001b[0m\u001b[0m_make_engine\u001b[0m\u001b[0;34m(\u001b[0m\u001b[0mself\u001b[0m\u001b[0;34m.\u001b[0m\u001b[0mengine\u001b[0m\u001b[0;34m)\u001b[0m\u001b[0;34m\u001b[0m\u001b[0;34m\u001b[0m\u001b[0m\n\u001b[0m\u001b[1;32m    949\u001b[0m \u001b[0;34m\u001b[0m\u001b[0m\n\u001b[1;32m    950\u001b[0m     \u001b[0;32mdef\u001b[0m \u001b[0mclose\u001b[0m\u001b[0;34m(\u001b[0m\u001b[0mself\u001b[0m\u001b[0;34m)\u001b[0m\u001b[0;34m:\u001b[0m\u001b[0;34m\u001b[0m\u001b[0;34m\u001b[0m\u001b[0m\n",
      "\u001b[0;32m/usr/local/lib/python3.7/dist-packages/pandas/io/parsers.py\u001b[0m in \u001b[0;36m_make_engine\u001b[0;34m(self, engine)\u001b[0m\n\u001b[1;32m   1178\u001b[0m     \u001b[0;32mdef\u001b[0m \u001b[0m_make_engine\u001b[0m\u001b[0;34m(\u001b[0m\u001b[0mself\u001b[0m\u001b[0;34m,\u001b[0m \u001b[0mengine\u001b[0m\u001b[0;34m=\u001b[0m\u001b[0;34m\"c\"\u001b[0m\u001b[0;34m)\u001b[0m\u001b[0;34m:\u001b[0m\u001b[0;34m\u001b[0m\u001b[0;34m\u001b[0m\u001b[0m\n\u001b[1;32m   1179\u001b[0m         \u001b[0;32mif\u001b[0m \u001b[0mengine\u001b[0m \u001b[0;34m==\u001b[0m \u001b[0;34m\"c\"\u001b[0m\u001b[0;34m:\u001b[0m\u001b[0;34m\u001b[0m\u001b[0;34m\u001b[0m\u001b[0m\n\u001b[0;32m-> 1180\u001b[0;31m             \u001b[0mself\u001b[0m\u001b[0;34m.\u001b[0m\u001b[0m_engine\u001b[0m \u001b[0;34m=\u001b[0m \u001b[0mCParserWrapper\u001b[0m\u001b[0;34m(\u001b[0m\u001b[0mself\u001b[0m\u001b[0;34m.\u001b[0m\u001b[0mf\u001b[0m\u001b[0;34m,\u001b[0m \u001b[0;34m**\u001b[0m\u001b[0mself\u001b[0m\u001b[0;34m.\u001b[0m\u001b[0moptions\u001b[0m\u001b[0;34m)\u001b[0m\u001b[0;34m\u001b[0m\u001b[0;34m\u001b[0m\u001b[0m\n\u001b[0m\u001b[1;32m   1181\u001b[0m         \u001b[0;32melse\u001b[0m\u001b[0;34m:\u001b[0m\u001b[0;34m\u001b[0m\u001b[0;34m\u001b[0m\u001b[0m\n\u001b[1;32m   1182\u001b[0m             \u001b[0;32mif\u001b[0m \u001b[0mengine\u001b[0m \u001b[0;34m==\u001b[0m \u001b[0;34m\"python\"\u001b[0m\u001b[0;34m:\u001b[0m\u001b[0;34m\u001b[0m\u001b[0;34m\u001b[0m\u001b[0m\n",
      "\u001b[0;32m/usr/local/lib/python3.7/dist-packages/pandas/io/parsers.py\u001b[0m in \u001b[0;36m__init__\u001b[0;34m(self, src, **kwds)\u001b[0m\n\u001b[1;32m   2008\u001b[0m         \u001b[0mkwds\u001b[0m\u001b[0;34m[\u001b[0m\u001b[0;34m\"usecols\"\u001b[0m\u001b[0;34m]\u001b[0m \u001b[0;34m=\u001b[0m \u001b[0mself\u001b[0m\u001b[0;34m.\u001b[0m\u001b[0musecols\u001b[0m\u001b[0;34m\u001b[0m\u001b[0;34m\u001b[0m\u001b[0m\n\u001b[1;32m   2009\u001b[0m \u001b[0;34m\u001b[0m\u001b[0m\n\u001b[0;32m-> 2010\u001b[0;31m         \u001b[0mself\u001b[0m\u001b[0;34m.\u001b[0m\u001b[0m_reader\u001b[0m \u001b[0;34m=\u001b[0m \u001b[0mparsers\u001b[0m\u001b[0;34m.\u001b[0m\u001b[0mTextReader\u001b[0m\u001b[0;34m(\u001b[0m\u001b[0msrc\u001b[0m\u001b[0;34m,\u001b[0m \u001b[0;34m**\u001b[0m\u001b[0mkwds\u001b[0m\u001b[0;34m)\u001b[0m\u001b[0;34m\u001b[0m\u001b[0;34m\u001b[0m\u001b[0m\n\u001b[0m\u001b[1;32m   2011\u001b[0m         \u001b[0mself\u001b[0m\u001b[0;34m.\u001b[0m\u001b[0munnamed_cols\u001b[0m \u001b[0;34m=\u001b[0m \u001b[0mself\u001b[0m\u001b[0;34m.\u001b[0m\u001b[0m_reader\u001b[0m\u001b[0;34m.\u001b[0m\u001b[0munnamed_cols\u001b[0m\u001b[0;34m\u001b[0m\u001b[0;34m\u001b[0m\u001b[0m\n\u001b[1;32m   2012\u001b[0m \u001b[0;34m\u001b[0m\u001b[0m\n",
      "\u001b[0;32mpandas/_libs/parsers.pyx\u001b[0m in \u001b[0;36mpandas._libs.parsers.TextReader.__cinit__\u001b[0;34m()\u001b[0m\n",
      "\u001b[0;32mpandas/_libs/parsers.pyx\u001b[0m in \u001b[0;36mpandas._libs.parsers.TextReader._setup_parser_source\u001b[0;34m()\u001b[0m\n",
      "\u001b[0;31mFileNotFoundError\u001b[0m: [Errno 2] No such file or directory: 'city_layout_analysis/city_layouts.csv'"
     ]
    }
   ],
   "source": [
    "import pandas as pd\n",
    "city_layouts = pd.read_csv('city_layout_analysis/city_layouts.csv',index_col=0)"
   ]
  },
  {
   "cell_type": "code",
   "execution_count": null,
   "metadata": {
    "id": "3FO9PxVQqlMa"
   },
   "outputs": [],
   "source": [
    "features = pd.DataFrame(zip(area,perimeter,avg_lw,std_lw,range_lw,std_rot,mean_rot),columns=['area','perimeter','avg_lw','std_lw','range_lw','std_rot','avg_rot'])"
   ]
  },
  {
   "cell_type": "code",
   "execution_count": null,
   "metadata": {
    "colab": {
     "base_uri": "https://localhost:8080/",
     "height": 162
    },
    "executionInfo": {
     "elapsed": 154,
     "status": "error",
     "timestamp": 1627414838233,
     "user": {
      "displayName": "Yan Liang Tan",
      "photoUrl": "",
      "userId": "11100671491657096354"
     },
     "user_tz": 240
    },
    "id": "6R5QD1A8qcxm",
    "outputId": "d28a2f6c-e73f-45f5-a96e-d9cf8f4f32f6"
   },
   "outputs": [
    {
     "ename": "NameError",
     "evalue": "ignored",
     "output_type": "error",
     "traceback": [
      "\u001b[0;31m---------------------------------------------------------------------------\u001b[0m",
      "\u001b[0;31mNameError\u001b[0m                                 Traceback (most recent call last)",
      "\u001b[0;32m<ipython-input-26-d3d9b5e02bcd>\u001b[0m in \u001b[0;36m<module>\u001b[0;34m()\u001b[0m\n\u001b[0;32m----> 1\u001b[0;31m \u001b[0mgeometric_features\u001b[0m \u001b[0;34m=\u001b[0m \u001b[0mcity_layouts\u001b[0m\u001b[0;34m.\u001b[0m\u001b[0mmerge\u001b[0m\u001b[0;34m(\u001b[0m\u001b[0mfeatures\u001b[0m\u001b[0;34m,\u001b[0m\u001b[0mleft_index\u001b[0m\u001b[0;34m=\u001b[0m\u001b[0;32mTrue\u001b[0m\u001b[0;34m,\u001b[0m\u001b[0mright_index\u001b[0m\u001b[0;34m=\u001b[0m\u001b[0;32mTrue\u001b[0m\u001b[0;34m)\u001b[0m\u001b[0;34m\u001b[0m\u001b[0;34m\u001b[0m\u001b[0m\n\u001b[0m",
      "\u001b[0;31mNameError\u001b[0m: name 'city_layouts' is not defined"
     ]
    }
   ],
   "source": [
    "geometric_features = city_layouts.merge(features,left_index=True,right_index=True)"
   ]
  },
  {
   "cell_type": "code",
   "execution_count": null,
   "metadata": {
    "colab": {
     "base_uri": "https://localhost:8080/",
     "height": 162
    },
    "executionInfo": {
     "elapsed": 131,
     "status": "error",
     "timestamp": 1627414840189,
     "user": {
      "displayName": "Yan Liang Tan",
      "photoUrl": "",
      "userId": "11100671491657096354"
     },
     "user_tz": 240
    },
    "id": "qD7AdoWlqxnL",
    "outputId": "a89b28f0-e69e-43d1-bbe0-248a35fce394"
   },
   "outputs": [
    {
     "ename": "NameError",
     "evalue": "ignored",
     "output_type": "error",
     "traceback": [
      "\u001b[0;31m---------------------------------------------------------------------------\u001b[0m",
      "\u001b[0;31mNameError\u001b[0m                                 Traceback (most recent call last)",
      "\u001b[0;32m<ipython-input-27-a12f14ba658f>\u001b[0m in \u001b[0;36m<module>\u001b[0;34m()\u001b[0m\n\u001b[0;32m----> 1\u001b[0;31m \u001b[0mlen\u001b[0m\u001b[0;34m(\u001b[0m\u001b[0mgeometric_features\u001b[0m\u001b[0;34m)\u001b[0m\u001b[0;34m\u001b[0m\u001b[0;34m\u001b[0m\u001b[0m\n\u001b[0m",
      "\u001b[0;31mNameError\u001b[0m: name 'geometric_features' is not defined"
     ]
    }
   ],
   "source": [
    "len(geometric_features)"
   ]
  },
  {
   "cell_type": "code",
   "execution_count": null,
   "metadata": {
    "colab": {
     "base_uri": "https://localhost:8080/",
     "height": 162
    },
    "executionInfo": {
     "elapsed": 132,
     "status": "error",
     "timestamp": 1627414841284,
     "user": {
      "displayName": "Yan Liang Tan",
      "photoUrl": "",
      "userId": "11100671491657096354"
     },
     "user_tz": 240
    },
    "id": "SykZR6Rnqy_I",
    "outputId": "92454d58-b38c-486e-88da-76de48e1da9d"
   },
   "outputs": [
    {
     "ename": "NameError",
     "evalue": "ignored",
     "output_type": "error",
     "traceback": [
      "\u001b[0;31m---------------------------------------------------------------------------\u001b[0m",
      "\u001b[0;31mNameError\u001b[0m                                 Traceback (most recent call last)",
      "\u001b[0;32m<ipython-input-28-379b44e12bcd>\u001b[0m in \u001b[0;36m<module>\u001b[0;34m()\u001b[0m\n\u001b[0;32m----> 1\u001b[0;31m \u001b[0mgeometric_features\u001b[0m\u001b[0;34m.\u001b[0m\u001b[0mhead\u001b[0m\u001b[0;34m(\u001b[0m\u001b[0;34m)\u001b[0m\u001b[0;34m\u001b[0m\u001b[0;34m\u001b[0m\u001b[0m\n\u001b[0m",
      "\u001b[0;31mNameError\u001b[0m: name 'geometric_features' is not defined"
     ]
    }
   ],
   "source": [
    "geometric_features.head()"
   ]
  },
  {
   "cell_type": "code",
   "execution_count": null,
   "metadata": {
    "colab": {
     "base_uri": "https://localhost:8080/",
     "height": 162
    },
    "executionInfo": {
     "elapsed": 133,
     "status": "error",
     "timestamp": 1627414842751,
     "user": {
      "displayName": "Yan Liang Tan",
      "photoUrl": "",
      "userId": "11100671491657096354"
     },
     "user_tz": 240
    },
    "id": "xU5kshUVqz2g",
    "outputId": "e2f48e04-57be-44ff-990b-150b3832d403"
   },
   "outputs": [
    {
     "ename": "NameError",
     "evalue": "ignored",
     "output_type": "error",
     "traceback": [
      "\u001b[0;31m---------------------------------------------------------------------------\u001b[0m",
      "\u001b[0;31mNameError\u001b[0m                                 Traceback (most recent call last)",
      "\u001b[0;32m<ipython-input-29-2f0c29e6cf9a>\u001b[0m in \u001b[0;36m<module>\u001b[0;34m()\u001b[0m\n\u001b[0;32m----> 1\u001b[0;31m \u001b[0mgeometric_features\u001b[0m\u001b[0;34m.\u001b[0m\u001b[0mto_csv\u001b[0m\u001b[0;34m(\u001b[0m\u001b[0;34m'city_layout_analysis/geometric_features.csv'\u001b[0m\u001b[0;34m)\u001b[0m\u001b[0;34m\u001b[0m\u001b[0;34m\u001b[0m\u001b[0m\n\u001b[0m",
      "\u001b[0;31mNameError\u001b[0m: name 'geometric_features' is not defined"
     ]
    }
   ],
   "source": [
    "geometric_features.to_csv('city_layout_analysis/geometric_features.csv')"
   ]
  },
  {
   "cell_type": "code",
   "execution_count": null,
   "metadata": {
    "id": "6Io1VFQrewHK"
   },
   "outputs": [],
   "source": []
  }
 ],
 "metadata": {
  "accelerator": "GPU",
  "colab": {
   "provenance": [
    {
     "file_id": "1ZmWy63RuRhzTkqLDcQuJq1w5pqnQgz1S",
     "timestamp": 1627415803597
    }
   ]
  },
  "kernelspec": {
   "display_name": "Python 3 (ipykernel)",
   "language": "python",
   "name": "python3"
  },
  "language_info": {
   "codemirror_mode": {
    "name": "ipython",
    "version": 3
   },
   "file_extension": ".py",
   "mimetype": "text/x-python",
   "name": "python",
   "nbconvert_exporter": "python",
   "pygments_lexer": "ipython3",
   "version": "3.7.16"
  }
 },
 "nbformat": 4,
 "nbformat_minor": 1
}
